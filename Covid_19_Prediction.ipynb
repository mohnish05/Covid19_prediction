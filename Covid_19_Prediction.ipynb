{
 "cells": [
  {
   "cell_type": "code",
   "execution_count": 1,
   "metadata": {},
   "outputs": [],
   "source": [
    "import pandas as pd"
   ]
  },
  {
   "cell_type": "code",
   "execution_count": 2,
   "metadata": {},
   "outputs": [],
   "source": [
    "df=pd.read_excel(\"data.xlsx\")"
   ]
  },
  {
   "cell_type": "code",
   "execution_count": 3,
   "metadata": {},
   "outputs": [
    {
     "data": {
      "text/html": [
       "<div>\n",
       "<style scoped>\n",
       "    .dataframe tbody tr th:only-of-type {\n",
       "        vertical-align: middle;\n",
       "    }\n",
       "\n",
       "    .dataframe tbody tr th {\n",
       "        vertical-align: top;\n",
       "    }\n",
       "\n",
       "    .dataframe thead th {\n",
       "        text-align: right;\n",
       "    }\n",
       "</style>\n",
       "<table border=\"1\" class=\"dataframe\">\n",
       "  <thead>\n",
       "    <tr style=\"text-align: right;\">\n",
       "      <th></th>\n",
       "      <th>fever</th>\n",
       "      <th>bodypain</th>\n",
       "      <th>age</th>\n",
       "      <th>runnynose</th>\n",
       "      <th>diffbreath</th>\n",
       "      <th>infectionprob</th>\n",
       "    </tr>\n",
       "  </thead>\n",
       "  <tbody>\n",
       "    <tr>\n",
       "      <th>0</th>\n",
       "      <td>100.048538</td>\n",
       "      <td>1</td>\n",
       "      <td>6</td>\n",
       "      <td>1</td>\n",
       "      <td>0</td>\n",
       "      <td>1</td>\n",
       "    </tr>\n",
       "    <tr>\n",
       "      <th>1</th>\n",
       "      <td>98.125780</td>\n",
       "      <td>0</td>\n",
       "      <td>76</td>\n",
       "      <td>1</td>\n",
       "      <td>0</td>\n",
       "      <td>0</td>\n",
       "    </tr>\n",
       "    <tr>\n",
       "      <th>2</th>\n",
       "      <td>99.034291</td>\n",
       "      <td>0</td>\n",
       "      <td>91</td>\n",
       "      <td>0</td>\n",
       "      <td>0</td>\n",
       "      <td>0</td>\n",
       "    </tr>\n",
       "    <tr>\n",
       "      <th>3</th>\n",
       "      <td>101.694040</td>\n",
       "      <td>0</td>\n",
       "      <td>4</td>\n",
       "      <td>1</td>\n",
       "      <td>-1</td>\n",
       "      <td>1</td>\n",
       "    </tr>\n",
       "    <tr>\n",
       "      <th>4</th>\n",
       "      <td>98.311612</td>\n",
       "      <td>1</td>\n",
       "      <td>88</td>\n",
       "      <td>1</td>\n",
       "      <td>0</td>\n",
       "      <td>1</td>\n",
       "    </tr>\n",
       "  </tbody>\n",
       "</table>\n",
       "</div>"
      ],
      "text/plain": [
       "        fever  bodypain  age  runnynose  diffbreath  infectionprob\n",
       "0  100.048538         1    6          1           0              1\n",
       "1   98.125780         0   76          1           0              0\n",
       "2   99.034291         0   91          0           0              0\n",
       "3  101.694040         0    4          1          -1              1\n",
       "4   98.311612         1   88          1           0              1"
      ]
     },
     "execution_count": 3,
     "metadata": {},
     "output_type": "execute_result"
    }
   ],
   "source": [
    "df.head()"
   ]
  },
  {
   "cell_type": "code",
   "execution_count": 4,
   "metadata": {},
   "outputs": [
    {
     "name": "stdout",
     "output_type": "stream",
     "text": [
      "<class 'pandas.core.frame.DataFrame'>\n",
      "RangeIndex: 2219 entries, 0 to 2218\n",
      "Data columns (total 6 columns):\n",
      " #   Column         Non-Null Count  Dtype  \n",
      "---  ------         --------------  -----  \n",
      " 0   fever          2219 non-null   float64\n",
      " 1   bodypain       2219 non-null   int64  \n",
      " 2   age            2219 non-null   int64  \n",
      " 3   runnynose      2219 non-null   int64  \n",
      " 4   diffbreath     2219 non-null   int64  \n",
      " 5   infectionprob  2219 non-null   int64  \n",
      "dtypes: float64(1), int64(5)\n",
      "memory usage: 104.1 KB\n"
     ]
    }
   ],
   "source": [
    "df.info()"
   ]
  },
  {
   "cell_type": "code",
   "execution_count": 5,
   "metadata": {},
   "outputs": [
    {
     "data": {
      "text/plain": [
       "-1    757\n",
       " 1    747\n",
       " 0    715\n",
       "Name: diffbreath, dtype: int64"
      ]
     },
     "execution_count": 5,
     "metadata": {},
     "output_type": "execute_result"
    }
   ],
   "source": [
    "df.diffbreath.value_counts()"
   ]
  },
  {
   "cell_type": "code",
   "execution_count": 6,
   "metadata": {},
   "outputs": [
    {
     "data": {
      "text/html": [
       "<div>\n",
       "<style scoped>\n",
       "    .dataframe tbody tr th:only-of-type {\n",
       "        vertical-align: middle;\n",
       "    }\n",
       "\n",
       "    .dataframe tbody tr th {\n",
       "        vertical-align: top;\n",
       "    }\n",
       "\n",
       "    .dataframe thead th {\n",
       "        text-align: right;\n",
       "    }\n",
       "</style>\n",
       "<table border=\"1\" class=\"dataframe\">\n",
       "  <thead>\n",
       "    <tr style=\"text-align: right;\">\n",
       "      <th></th>\n",
       "      <th>fever</th>\n",
       "      <th>bodypain</th>\n",
       "      <th>age</th>\n",
       "      <th>runnynose</th>\n",
       "      <th>diffbreath</th>\n",
       "      <th>infectionprob</th>\n",
       "    </tr>\n",
       "  </thead>\n",
       "  <tbody>\n",
       "    <tr>\n",
       "      <th>count</th>\n",
       "      <td>2219.000000</td>\n",
       "      <td>2219.000000</td>\n",
       "      <td>2219.000000</td>\n",
       "      <td>2219.000000</td>\n",
       "      <td>2219.000000</td>\n",
       "      <td>2219.000000</td>\n",
       "    </tr>\n",
       "    <tr>\n",
       "      <th>mean</th>\n",
       "      <td>100.059234</td>\n",
       "      <td>0.512844</td>\n",
       "      <td>50.712032</td>\n",
       "      <td>0.518251</td>\n",
       "      <td>-0.004507</td>\n",
       "      <td>0.486706</td>\n",
       "    </tr>\n",
       "    <tr>\n",
       "      <th>std</th>\n",
       "      <td>1.165463</td>\n",
       "      <td>0.499948</td>\n",
       "      <td>28.888307</td>\n",
       "      <td>0.499779</td>\n",
       "      <td>0.823449</td>\n",
       "      <td>0.499936</td>\n",
       "    </tr>\n",
       "    <tr>\n",
       "      <th>min</th>\n",
       "      <td>98.002366</td>\n",
       "      <td>0.000000</td>\n",
       "      <td>1.000000</td>\n",
       "      <td>0.000000</td>\n",
       "      <td>-1.000000</td>\n",
       "      <td>0.000000</td>\n",
       "    </tr>\n",
       "    <tr>\n",
       "      <th>25%</th>\n",
       "      <td>99.060023</td>\n",
       "      <td>0.000000</td>\n",
       "      <td>26.000000</td>\n",
       "      <td>0.000000</td>\n",
       "      <td>-1.000000</td>\n",
       "      <td>0.000000</td>\n",
       "    </tr>\n",
       "    <tr>\n",
       "      <th>50%</th>\n",
       "      <td>100.090009</td>\n",
       "      <td>1.000000</td>\n",
       "      <td>51.000000</td>\n",
       "      <td>1.000000</td>\n",
       "      <td>0.000000</td>\n",
       "      <td>0.000000</td>\n",
       "    </tr>\n",
       "    <tr>\n",
       "      <th>75%</th>\n",
       "      <td>101.079563</td>\n",
       "      <td>1.000000</td>\n",
       "      <td>76.000000</td>\n",
       "      <td>1.000000</td>\n",
       "      <td>1.000000</td>\n",
       "      <td>1.000000</td>\n",
       "    </tr>\n",
       "    <tr>\n",
       "      <th>max</th>\n",
       "      <td>101.998987</td>\n",
       "      <td>1.000000</td>\n",
       "      <td>100.000000</td>\n",
       "      <td>1.000000</td>\n",
       "      <td>1.000000</td>\n",
       "      <td>1.000000</td>\n",
       "    </tr>\n",
       "  </tbody>\n",
       "</table>\n",
       "</div>"
      ],
      "text/plain": [
       "             fever     bodypain          age    runnynose   diffbreath  \\\n",
       "count  2219.000000  2219.000000  2219.000000  2219.000000  2219.000000   \n",
       "mean    100.059234     0.512844    50.712032     0.518251    -0.004507   \n",
       "std       1.165463     0.499948    28.888307     0.499779     0.823449   \n",
       "min      98.002366     0.000000     1.000000     0.000000    -1.000000   \n",
       "25%      99.060023     0.000000    26.000000     0.000000    -1.000000   \n",
       "50%     100.090009     1.000000    51.000000     1.000000     0.000000   \n",
       "75%     101.079563     1.000000    76.000000     1.000000     1.000000   \n",
       "max     101.998987     1.000000   100.000000     1.000000     1.000000   \n",
       "\n",
       "       infectionprob  \n",
       "count    2219.000000  \n",
       "mean        0.486706  \n",
       "std         0.499936  \n",
       "min         0.000000  \n",
       "25%         0.000000  \n",
       "50%         0.000000  \n",
       "75%         1.000000  \n",
       "max         1.000000  "
      ]
     },
     "execution_count": 6,
     "metadata": {},
     "output_type": "execute_result"
    }
   ],
   "source": [
    "df.describe()"
   ]
  },
  {
   "cell_type": "code",
   "execution_count": 7,
   "metadata": {},
   "outputs": [],
   "source": [
    "X=df.drop([\"infectionprob\"],axis=1)\n",
    "y=df.infectionprob"
   ]
  },
  {
   "cell_type": "code",
   "execution_count": 8,
   "metadata": {},
   "outputs": [],
   "source": [
    "from sklearn.model_selection import train_test_split \n",
    "seed = 10\n",
    "X_train, X_test, y_train, y_test = train_test_split(X, y, test_size=0.2, random_state = seed)"
   ]
  },
  {
   "cell_type": "code",
   "execution_count": 9,
   "metadata": {},
   "outputs": [],
   "source": [
    "from sklearn.linear_model import LogisticRegression"
   ]
  },
  {
   "cell_type": "code",
   "execution_count": 10,
   "metadata": {},
   "outputs": [
    {
     "data": {
      "text/plain": [
       "LogisticRegression(C=1.0, class_weight=None, dual=False, fit_intercept=True,\n",
       "                   intercept_scaling=1, l1_ratio=None, max_iter=100,\n",
       "                   multi_class='auto', n_jobs=None, penalty='l2',\n",
       "                   random_state=None, solver='lbfgs', tol=0.0001, verbose=0,\n",
       "                   warm_start=False)"
      ]
     },
     "execution_count": 10,
     "metadata": {},
     "output_type": "execute_result"
    }
   ],
   "source": [
    "clf=LogisticRegression()\n",
    "clf.fit(X_train,y_train)"
   ]
  },
  {
   "cell_type": "code",
   "execution_count": 11,
   "metadata": {},
   "outputs": [],
   "source": [
    "from tkinter import *\n",
    "from PIL import ImageTk,Image\n",
    "class Covid:\n",
    "    def __init__(self, win):\n",
    "        self.lbl1=Label(win, text='Fever')\n",
    "        self.lbl2=Label(win, text='Body Pain')\n",
    "        self.lbl3=Label(win, text='Age')\n",
    "        self.lbl4=Label(win, text='Runny Nose')\n",
    "        self.lbl5=Label(win, text='Difficulty in Breathing')\n",
    "        self.lbl6=Label(win, text='Result')\n",
    "        \n",
    "        self.v0=IntVar()\n",
    "        self.v0.set(0)\n",
    "        self.r21=Radiobutton(win, text=\"Yes\", variable=self.v0,value=1)\n",
    "        self.r22=Radiobutton(win, text=\"No\", variable=self.v0,value=0)\n",
    "        self.lbl2.place(x=100, y=100)\n",
    "        self.r21.place(x=250,y=100)\n",
    "        self.r22.place(x=330, y=100)\n",
    "        \n",
    "        self.v1=IntVar()\n",
    "        self.v1.set(0)\n",
    "        self.r41=Radiobutton(win, text=\"Yes\", variable=self.v1,value=1)\n",
    "        self.r42=Radiobutton(win, text=\"No\", variable=self.v1,value=0)\n",
    "        self.lbl4.place(x=100, y=200)\n",
    "        self.r41.place(x=250,y=200)\n",
    "        self.r42.place(x=330, y=200)\n",
    "        \n",
    "        self.v2=IntVar()\n",
    "        self.v2.set(0)\n",
    "        self.r51=Radiobutton(win, text=\"Very Difficult\", variable=self.v2,value=1)\n",
    "        self.r52=Radiobutton(win, text=\"Difficult\", variable=self.v2,value=0)\n",
    "        self.r53=Radiobutton(win, text=\"Normal\", variable=self.v2,value=-1)\n",
    "        self.lbl5.place(x=100, y=250)\n",
    "        self.r51.place(x=250,y=250)\n",
    "        self.r52.place(x=350, y=250)\n",
    "        self.r53.place(x=425, y=250)\n",
    "\n",
    "        self.t1=Entry(bd=3)\n",
    "        self.t3=Entry(bd=3)\n",
    "        self.t6=Entry(bd=3)\n",
    "        self.btn1 = Button(win, text='Predict')\n",
    "        self.lbl1.place(x=100, y=50)\n",
    "        self.t1.place(x=250, y=50)\n",
    "        self.lbl3.place(x=100, y=150)\n",
    "        self.t3.place(x=250, y=150)\n",
    "\n",
    "        \n",
    "        self.b1=Button(win, text='Predict', command=self.Predict)\n",
    "        self.b1.place(x=250, y=300)\n",
    "        self.lbl6.place(x=100, y=350)\n",
    "        self.t6.place(x=250, y=350)\n",
    "\n",
    "    def Predict(self):\n",
    "        self.t6.delete(0, 'end')\n",
    "        num1=int(self.t1.get())\n",
    "        num2=int(self.v0.get())\n",
    "        num3=int(self.t3.get())\n",
    "        num4=int(self.v1.get())\n",
    "        num5=int(self.v2.get())\n",
    "        inputfeatures=[num1,num2,num3,num4,num5]\n",
    "        infprob=clf.predict_proba([inputfeatures])[0][1]\n",
    "        self.t6.insert(END, str(infprob))\n",
    "    \n",
    "window=Tk()\n",
    "canvas=Canvas(window,width=600,height=500)\n",
    "image=ImageTk.PhotoImage(Image.open(\"covid.jpg\"))\n",
    "canvas.create_image(0,0,anchor=NW,image=image)\n",
    "canvas.pack()\n",
    "mywin=Covid(window)\n",
    "window.title('Covid 19 Prediction')\n",
    "window.geometry(\"600x500+10+10\")\n",
    "window.configure(bg = \"#828481\")\n",
    "window.mainloop()\n"
   ]
  },
  {
   "cell_type": "code",
   "execution_count": null,
   "metadata": {},
   "outputs": [],
   "source": []
  }
 ],
 "metadata": {
  "kernelspec": {
   "display_name": "Python 3",
   "language": "python",
   "name": "python3"
  },
  "language_info": {
   "codemirror_mode": {
    "name": "ipython",
    "version": 3
   },
   "file_extension": ".py",
   "mimetype": "text/x-python",
   "name": "python",
   "nbconvert_exporter": "python",
   "pygments_lexer": "ipython3",
   "version": "3.7.6"
  }
 },
 "nbformat": 4,
 "nbformat_minor": 2
}
